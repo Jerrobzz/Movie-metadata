{
 "cells": [
  {
   "cell_type": "code",
   "execution_count": 1,
   "id": "cdd831bb-1a5a-4ccc-989f-0737b673d6f7",
   "metadata": {},
   "outputs": [],
   "source": [
    "# Define numerical columns\n",
    "numeric_cols = ['budget', 'popularity', 'revenue', 'runtime', 'vote_average', 'vote_count']"
   ]
  },
  {
   "cell_type": "code",
   "execution_count": null,
   "id": "123811eb-2f0f-43dc-a7b5-44bdf9b7e55f",
   "metadata": {},
   "outputs": [],
   "source": [
    "# Plot each histogram separately for better readability\n",
    "fig, axes = plt.subplots(2, 3, figsize=(15, 10))  # 2 rows, 3 columns\n",
    "axes = axes.flatten()  # Flatten for easy iteration\n",
    "\n",
    "for i, col in enumerate(numeric_cols):\n",
    "    axes[i].hist(df1[col], bins=30, color='royalblue', edgecolor='black', alpha=0.7)\n",
    "    axes[i].set_title(f\"Distribution of {col}\", fontsize=14)\n",
    "    axes[i].set_xlabel(col, fontsize=12)\n",
    "    axes[i].set_ylabel(\"Frequency\", fontsize=12)\n",
    "\n",
    "    # Add mean line\n",
    "    mean_value = df1[col].mean()\n",
    "    axes[i].axvline(mean_value, color='red', linestyle='dashed', linewidth=2, label=f'Mean: {mean_value:.2f}')\n",
    "    axes[i].legend()\n",
    "\n",
    "plt.tight_layout()\n",
    "plt.show()"
   ]
  },
  {
   "cell_type": "code",
   "execution_count": null,
   "id": "6c583609-58c9-4e8e-865d-d7627022b554",
   "metadata": {},
   "outputs": [],
   "source": [
    "#scatter plot for budget vs revenue scatter plot \n",
    "plt.figure(figsize=(10, 6))\n",
    "sns.scatterplot(x='budget', y='revenue', data=df1, hue='popularity', palette='coolwarm', alpha=0.7, edgecolor='black')\n",
    "plt.title(\"Budget vs. Revenue\", fontsize=16)\n",
    "plt.xlabel(\"Budget ($)\", fontsize=12)\n",
    "plt.ylabel(\"Revenue ($)\", fontsize=12)\n",
    "plt.legend(title=\"Popularity\", bbox_to_anchor=(1, 1))\n",
    "plt.grid(True, linestyle='--', alpha=0.5)\n",
    "plt.show()"
   ]
  },
  {
   "cell_type": "code",
   "execution_count": null,
   "id": "d4afd89e-0ba4-4189-aa96-18970dd12e36",
   "metadata": {},
   "outputs": [],
   "source": [
    "#runtime vs revenue scatter plot \n",
    "\n",
    "plt.figure(figsize=(10, 6))\n",
    "\n",
    "sns.scatterplot(x='runtime', y='revenue', data=df1, hue='vote_average', palette='viridis', alpha=0.7, edgecolor='black')\n",
    "plt.title(\"Runtime vs. Revenue\", fontsize=16)\n",
    "plt.xlabel(\"Runtime (minutes)\", fontsize=12)\n",
    "plt.ylabel(\"Revenue ($)\", fontsize=12)\n",
    "plt.legend(title=\"Vote Average\", bbox_to_anchor=(1, 1))\n",
    "plt.grid(True, linestyle='--', alpha=0.5)\n",
    "plt.show()"
   ]
  },
  {
   "cell_type": "code",
   "execution_count": null,
   "id": "dbbe1577-d1c1-45fb-a7f9-f463356af74d",
   "metadata": {},
   "outputs": [],
   "source": [
    "#popularity vs vote count scatterplot\n",
    "\n",
    "plt.figure(figsize=(10, 6))\n",
    "sns.scatterplot(x='popularity', y='vote_count', data=df1, hue='revenue', palette='magma', alpha=0.7, edgecolor='black')\n",
    "plt.title(\"Popularity vs. Vote Count\", fontsize=16)\n",
    "plt.xlabel(\"Popularity Score\", fontsize=12)\n",
    "plt.ylabel(\"Vote Count\", fontsize=12)\n",
    "plt.legend(title=\"Revenue\", bbox_to_anchor=(1, 1))\n",
    "plt.grid(True, linestyle='--', alpha=0.5)\n",
    "plt.show()"
   ]
  },
  {
   "cell_type": "code",
   "execution_count": null,
   "id": "3c44897b-4c18-4be8-84cb-289206e9e945",
   "metadata": {},
   "outputs": [],
   "source": [
    "#boxplot for vote average vs production company\n",
    "\n",
    "# Handle zero revenues to avoid issues in pd.qcut()\n",
    "df1['revenue'] = df1['revenue'].replace(0, np.nan)\n",
    "df1 = df1.dropna(subset=['revenue']).reset_index(drop=True)\n",
    "\n",
    "# Create revenue categories (handle duplicate bins)\n",
    "df1['revenue_category'] = pd.qcut(df1['revenue'], q=3, labels=[\"Low\", \"Medium\", \"High\"])\n",
    "\n",
    "# Select top 10 production companies\n",
    "top_production_companies = df1['production_companies'].value_counts().index[:10]\n",
    "df_filtered = df1[df1['production_companies'].isin(top_production_companies)]\n",
    "\n",
    "# Plot\n",
    "plt.figure(figsize=(14, 6))\n",
    "sns.boxplot(x='production_companies', y='vote_average', hue='revenue_category',\n",
    "            data=df_filtered, palette=\"viridis\")\n",
    "\n",
    "plt.xticks(rotation=45, ha=\"right\")\n",
    "plt.title(\"Vote Average Distribution by Production Company (Grouped by Revenue)\", fontsize=14)\n",
    "plt.xlabel(\"Production Company\", fontsize=12)\n",
    "plt.ylabel(\"Vote Average\", fontsize=12)\n",
    "plt.legend(title=\"Revenue Level\")\n",
    "\n",
    "plt.show()"
   ]
  },
  {
   "cell_type": "code",
   "execution_count": null,
   "id": "fe24ce81-6740-407e-ad16-187787d127dc",
   "metadata": {},
   "outputs": [],
   "source": [
    "#box  plot for runtime vs genre \n",
    "\n",
    "# Categorize revenue into groups (fix duplicate bin error)\n",
    "df1['revenue_category'] = pd.qcut(df1['revenue'], q=3, labels=[\"Low\", \"Medium\", \"High\"])\n",
    "\n",
    "# Select only the top 10 most frequent genres for clarity\n",
    "top_genres = df1['genres'].value_counts().index[:10]\n",
    "df_filtered = df1[df1['genres'].isin(top_genres)]\n",
    "\n",
    "plt.figure(figsize=(14, 6))\n",
    "sns.boxplot(x='genres', y='runtime', hue='revenue_category', \n",
    "            data=df_filtered, palette=\"viridis\")\n",
    "\n",
    "# Improve readability\n",
    "plt.xticks(rotation=45, ha=\"right\")\n",
    "plt.title(\"Runtime Distribution by Genre (Grouped by Revenue)\", fontsize=14)\n",
    "plt.xlabel(\"Genre\", fontsize=12)\n",
    "plt.ylabel(\"Runtime (minutes)\", fontsize=12)\n",
    "plt.legend(title=\"Revenue Level\")  # Add legend\n",
    "\n",
    "plt.show()\n",
    "print(df1.shape)"
   ]
  },
  {
   "cell_type": "code",
   "execution_count": null,
   "id": "c908d34d-3484-4258-842f-6eec3b83fdf8",
   "metadata": {},
   "outputs": [],
   "source": [
    "#revenue vs original language box plot\n",
    "# Handle zero revenues to avoid issues in pd.qcut()\n",
    "df1['revenue'] = df1['revenue'].replace(0, np.nan)\n",
    "df1 = df1.dropna(subset=['revenue']).reset_index(drop=True)\n",
    "\n",
    "# Categorize revenue into groups (fix duplicate bin error)\n",
    "df1['revenue_category'] = pd.qcut(df1['revenue'], q=3, labels=[\"Low\", \"Medium\", \"High\"])\n",
    "\n",
    "# Select only the top 10 most frequent original languages for clarity\n",
    "top_languages = df1['original_language'].value_counts().index[:10]\n",
    "df_filtered = df1[df1['original_language'].isin(top_languages)]\n",
    "\n",
    "plt.figure(figsize=(14, 6))\n",
    "sns.boxplot(x='original_language', y='revenue', hue='revenue_category', \n",
    "            data=df_filtered, palette=\"viridis\")\n",
    "\n",
    "# Improve readability\n",
    "plt.xticks(rotation=45, ha=\"right\")\n",
    "plt.title(\"Revenue Distribution by Original Language (Grouped by Revenue)\", fontsize=14)\n",
    "plt.xlabel(\"Original Language\", fontsize=12)\n",
    "plt.ylabel(\"Revenue\", fontsize=12)\n",
    "plt.legend(title=\"Revenue Level\")  # Add legend\n",
    "\n",
    "plt.show()"
   ]
  },
  {
   "cell_type": "code",
   "execution_count": null,
   "id": "0a87ca0a-12fa-4d30-bcf5-cb65074e2cbe",
   "metadata": {},
   "outputs": [],
   "source": [
    "#pairplot allowing us to make comparison of various features against each other\n",
    "\n",
    "# Ensure revenue has no zero values (avoid binning issues)\n",
    "df1['revenue'] = df1['revenue'].replace(0, np.nan)\n",
    "df1 = df1.dropna(subset=['revenue']).reset_index(drop=True)\n",
    "\n",
    "# Categorize revenue into groups (fix duplicate bin issue)\n",
    "df1['revenue_category'] = pd.qcut(df1['revenue'], q=3, labels=[\"Low\", \"Medium\", \"High\"])\n",
    "\n",
    "# Select numerical columns for comparison\n",
    "numeric_features = ['budget', 'popularity', 'revenue', 'runtime', 'vote_average', 'vote_count']\n",
    "\n",
    "# Remove rows with NaN in revenue_category (to avoid errors in pairplot)\n",
    "df_filtered = df1.dropna(subset=['revenue_category'])\n",
    "\n",
    "# Create pairplot\n",
    "sns.pairplot(df_filtered, vars=numeric_features, hue='revenue_category', palette='viridis', diag_kind='kde')\n",
    "\n",
    "plt.show()\n"
   ]
  },
  {
   "cell_type": "code",
   "execution_count": null,
   "id": "2cac4308-5e56-42d5-a5f0-0ece3a54a793",
   "metadata": {},
   "outputs": [],
   "source": [
    "# correlation heat map \n",
    "df1_corr = df1[[ 'budget', 'popularity', 'revenue', 'runtime', 'vote_average', 'vote_count']].corr() \n",
    "sns.heatmap(df1_corr , annot = True ) "
   ]
  }
 ],
 "metadata": {
  "kernelspec": {
   "display_name": "Python 3 (ipykernel)",
   "language": "python",
   "name": "python3"
  },
  "language_info": {
   "codemirror_mode": {
    "name": "ipython",
    "version": 3
   },
   "file_extension": ".py",
   "mimetype": "text/x-python",
   "name": "python",
   "nbconvert_exporter": "python",
   "pygments_lexer": "ipython3",
   "version": "3.12.4"
  }
 },
 "nbformat": 4,
 "nbformat_minor": 5
}
