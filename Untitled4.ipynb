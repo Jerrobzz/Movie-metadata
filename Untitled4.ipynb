{
 "cells": [
  {
   "cell_type": "code",
   "execution_count": 1,
   "id": "ea3bfaa0-2187-420c-8e17-022941047cf7",
   "metadata": {},
   "outputs": [],
   "source": [
    "import pandas as pd\n",
    "import numpy as np\n",
    "from sklearn.preprocessing import MinMaxScaler  # Import MinMaxScaler\n",
    "import matplotlib.pyplot as plt\n",
    "import seaborn as sns\n",
    "# Load datasets\n",
    "df1 = pd.read_csv(r\"C:\\Users\\Admin\\Documents\\tmdb_5000_movies.csv\")\n",
    "df2 = pd.read_csv(r\"C:\\Users\\Admin\\Documents\\tmdb_5000_credits.csv\")"
   ]
  },
  {
   "cell_type": "code",
   "execution_count": 3,
   "id": "6fc8022a-3a36-4498-9cf2-7217dbb531ed",
   "metadata": {},
   "outputs": [
    {
     "name": "stdout",
     "output_type": "stream",
     "text": [
      "Shape of df1; (4803, 20)\n",
      "Shape of df2; (4803, 4)\n"
     ]
    }
   ],
   "source": [
    "# Display shape of datasets\n",
    "print(\"Shape of df1;\",df1.shape)\n",
    "print(\"Shape of df2;\",df2.shape)"
   ]
  },
  {
   "cell_type": "code",
   "execution_count": 5,
   "id": "fc5d7db8-9581-4f92-ad4c-bacfcd08f846",
   "metadata": {},
   "outputs": [],
   "source": [
    "# Ensure df1 and df2 have the same number of rows before assigning 'cast'\n",
    "if df1.shape[0] == df2.shape[0]:\n",
    "    df1['cast'] = df2['cast']\n",
    "else:\n",
    "    print(\"Error: df1 and df2 have different row counts. Cannot assign 'cast' column.\")"
   ]
  },
  {
   "cell_type": "code",
   "execution_count": 7,
   "id": "15d030b7-378d-4954-83e9-1dc8f964aa08",
   "metadata": {},
   "outputs": [
    {
     "name": "stdout",
     "output_type": "stream",
     "text": [
      "      budget                                             genres  \\\n",
      "0  237000000  [{\"id\": 28, \"name\": \"Action\"}, {\"id\": 12, \"nam...   \n",
      "1  300000000  [{\"id\": 12, \"name\": \"Adventure\"}, {\"id\": 14, \"...   \n",
      "2  245000000  [{\"id\": 28, \"name\": \"Action\"}, {\"id\": 12, \"nam...   \n",
      "3  250000000  [{\"id\": 28, \"name\": \"Action\"}, {\"id\": 80, \"nam...   \n",
      "4  260000000  [{\"id\": 28, \"name\": \"Action\"}, {\"id\": 12, \"nam...   \n",
      "\n",
      "                                       homepage      id  \\\n",
      "0                   http://www.avatarmovie.com/   19995   \n",
      "1  http://disney.go.com/disneypictures/pirates/     285   \n",
      "2   http://www.sonypictures.com/movies/spectre/  206647   \n",
      "3            http://www.thedarkknightrises.com/   49026   \n",
      "4          http://movies.disney.com/john-carter   49529   \n",
      "\n",
      "                                            keywords original_language  \\\n",
      "0  [{\"id\": 1463, \"name\": \"culture clash\"}, {\"id\":...                en   \n",
      "1  [{\"id\": 270, \"name\": \"ocean\"}, {\"id\": 726, \"na...                en   \n",
      "2  [{\"id\": 470, \"name\": \"spy\"}, {\"id\": 818, \"name...                en   \n",
      "3  [{\"id\": 849, \"name\": \"dc comics\"}, {\"id\": 853,...                en   \n",
      "4  [{\"id\": 818, \"name\": \"based on novel\"}, {\"id\":...                en   \n",
      "\n",
      "                             original_title  \\\n",
      "0                                    Avatar   \n",
      "1  Pirates of the Caribbean: At World's End   \n",
      "2                                   Spectre   \n",
      "3                     The Dark Knight Rises   \n",
      "4                               John Carter   \n",
      "\n",
      "                                            overview  popularity  \\\n",
      "0  In the 22nd century, a paraplegic Marine is di...  150.437577   \n",
      "1  Captain Barbossa, long believed to be dead, ha...  139.082615   \n",
      "2  A cryptic message from Bond’s past sends him o...  107.376788   \n",
      "3  Following the death of District Attorney Harve...  112.312950   \n",
      "4  John Carter is a war-weary, former military ca...   43.926995   \n",
      "\n",
      "                                production_companies  ... release_date  \\\n",
      "0  [{\"name\": \"Ingenious Film Partners\", \"id\": 289...  ...   2009-12-10   \n",
      "1  [{\"name\": \"Walt Disney Pictures\", \"id\": 2}, {\"...  ...   2007-05-19   \n",
      "2  [{\"name\": \"Columbia Pictures\", \"id\": 5}, {\"nam...  ...   2015-10-26   \n",
      "3  [{\"name\": \"Legendary Pictures\", \"id\": 923}, {\"...  ...   2012-07-16   \n",
      "4        [{\"name\": \"Walt Disney Pictures\", \"id\": 2}]  ...   2012-03-07   \n",
      "\n",
      "      revenue  runtime                                   spoken_languages  \\\n",
      "0  2787965087    162.0  [{\"iso_639_1\": \"en\", \"name\": \"English\"}, {\"iso...   \n",
      "1   961000000    169.0           [{\"iso_639_1\": \"en\", \"name\": \"English\"}]   \n",
      "2   880674609    148.0  [{\"iso_639_1\": \"fr\", \"name\": \"Fran\\u00e7ais\"},...   \n",
      "3  1084939099    165.0           [{\"iso_639_1\": \"en\", \"name\": \"English\"}]   \n",
      "4   284139100    132.0           [{\"iso_639_1\": \"en\", \"name\": \"English\"}]   \n",
      "\n",
      "     status                                         tagline  \\\n",
      "0  Released                     Enter the World of Pandora.   \n",
      "1  Released  At the end of the world, the adventure begins.   \n",
      "2  Released                           A Plan No One Escapes   \n",
      "3  Released                                 The Legend Ends   \n",
      "4  Released            Lost in our world, found in another.   \n",
      "\n",
      "                                      title vote_average  vote_count  \\\n",
      "0                                    Avatar          7.2       11800   \n",
      "1  Pirates of the Caribbean: At World's End          6.9        4500   \n",
      "2                                   Spectre          6.3        4466   \n",
      "3                     The Dark Knight Rises          7.6        9106   \n",
      "4                               John Carter          6.1        2124   \n",
      "\n",
      "                                                cast  \n",
      "0  [{\"cast_id\": 242, \"character\": \"Jake Sully\", \"...  \n",
      "1  [{\"cast_id\": 4, \"character\": \"Captain Jack Spa...  \n",
      "2  [{\"cast_id\": 1, \"character\": \"James Bond\", \"cr...  \n",
      "3  [{\"cast_id\": 2, \"character\": \"Bruce Wayne / Ba...  \n",
      "4  [{\"cast_id\": 5, \"character\": \"John Carter\", \"c...  \n",
      "\n",
      "[5 rows x 21 columns]\n"
     ]
    }
   ],
   "source": [
    "# Display first few rows\n",
    "print(df1.head())"
   ]
  },
  {
   "cell_type": "code",
   "execution_count": 9,
   "id": "22ee55b6-6905-446d-b2f8-df056844dbd8",
   "metadata": {},
   "outputs": [
    {
     "data": {
      "text/plain": [
       "Index(['budget', 'genres', 'homepage', 'id', 'keywords', 'original_language',\n",
       "       'original_title', 'overview', 'popularity', 'production_companies',\n",
       "       'production_countries', 'release_date', 'revenue', 'runtime',\n",
       "       'spoken_languages', 'status', 'tagline', 'title', 'vote_average',\n",
       "       'vote_count', 'cast'],\n",
       "      dtype='object')"
      ]
     },
     "execution_count": 9,
     "metadata": {},
     "output_type": "execute_result"
    }
   ],
   "source": [
    "df1.columns"
   ]
  },
  {
   "cell_type": "code",
   "execution_count": 11,
   "id": "15ae567c-3046-4483-b3bc-33e03677d95a",
   "metadata": {},
   "outputs": [
    {
     "name": "stdout",
     "output_type": "stream",
     "text": [
      "Index(['budget', 'genres', 'original_language', 'popularity',\n",
      "       'production_companies', 'release_date', 'revenue', 'runtime', 'title',\n",
      "       'vote_average', 'vote_count', 'cast'],\n",
      "      dtype='object')\n"
     ]
    }
   ],
   "source": [
    "df1=df1[['budget', 'genres', #'homepage', 'id', 'keywords',\n",
    "        'original_language',\n",
    "       #'original_title', 'overview', \n",
    "        'popularity', 'production_companies',\n",
    "       #'production_countries', \n",
    "        'release_date', 'revenue', 'runtime',\n",
    "       #'spoken_languages', 'status', 'tagline', \n",
    "        'title', 'vote_average',\n",
    "       'vote_count', 'cast']].copy()\n",
    "print(df1.columns)"
   ]
  },
  {
   "cell_type": "code",
   "execution_count": 13,
   "id": "f5bb24d4-1829-46ad-bc49-3f10a3b1ee8c",
   "metadata": {},
   "outputs": [
    {
     "name": "stdout",
     "output_type": "stream",
     "text": [
      "Total missing values: 3\n"
     ]
    }
   ],
   "source": [
    "# Check missing values\n",
    "missing_rows_count = df1.isna().sum().sum()\n",
    "print(\"Total missing values:\", missing_rows_count)"
   ]
  },
  {
   "cell_type": "code",
   "execution_count": 15,
   "id": "e4ba52a8-da9c-4944-a1e7-df7ce7b036bf",
   "metadata": {},
   "outputs": [],
   "source": [
    "# Drop missing values\n",
    "df1 = df1.dropna().copy()"
   ]
  },
  {
   "cell_type": "code",
   "execution_count": null,
   "id": "d5dce6fd-c07e-4c02-aed1-656f4d6da76b",
   "metadata": {},
   "outputs": [],
   "source": []
  }
 ],
 "metadata": {
  "kernelspec": {
   "display_name": "Python [conda env:base] *",
   "language": "python",
   "name": "conda-base-py"
  },
  "language_info": {
   "codemirror_mode": {
    "name": "ipython",
    "version": 3
   },
   "file_extension": ".py",
   "mimetype": "text/x-python",
   "name": "python",
   "nbconvert_exporter": "python",
   "pygments_lexer": "ipython3",
   "version": "3.12.7"
  }
 },
 "nbformat": 4,
 "nbformat_minor": 5
}
